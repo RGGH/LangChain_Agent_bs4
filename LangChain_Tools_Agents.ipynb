{
 "cells": [
  {
   "cell_type": "markdown",
   "id": "b03b1d4e",
   "metadata": {},
   "source": [
    "# Query Rightmove with LangChain | OpenAI | Python | bs4"
   ]
  },
  {
   "cell_type": "code",
   "execution_count": 22,
   "id": "2beee96b",
   "metadata": {},
   "outputs": [],
   "source": [
    "import os\n",
    "OPENAI_API_KEY = os.environ.get(\"OPENAI_API_KEY\")"
   ]
  },
  {
   "cell_type": "code",
   "execution_count": 10,
   "id": "26ec58f3",
   "metadata": {},
   "outputs": [],
   "source": [
    "from langchain.agents import initialize_agent, Tool\n",
    "from langchain.chat_models import ChatOpenAI\n",
    "from langchain.agents import tool\n",
    "from langchain.prompts import PromptTemplate    \n",
    "\n",
    "import statistics\n",
    "\n",
    "import requests\n",
    "from bs4 import BeautifulSoup"
   ]
  },
  {
   "cell_type": "code",
   "execution_count": 11,
   "id": "c5c08764",
   "metadata": {},
   "outputs": [],
   "source": [
    "llm = ChatOpenAI(model_name='gpt-3.5-turbo', temperature=0)"
   ]
  },
  {
   "cell_type": "code",
   "execution_count": null,
   "id": "88124beb",
   "metadata": {},
   "outputs": [],
   "source": [
    "# Provide a URL of a list of properties to analyse"
   ]
  },
  {
   "cell_type": "code",
   "execution_count": 13,
   "id": "eaa9f3aa",
   "metadata": {},
   "outputs": [],
   "source": [
    "url='https://www.rightmove.co.uk/property-for-sale/find.html?locationIdentifier=REGION%5E116&maxBedrooms=3&minBedrooms=3&maxPrice=325000&propertyTypes=&includeSSTC=false&mustHave=&dontShow=&furnishTypes=&keywords='"
   ]
  },
  {
   "cell_type": "markdown",
   "id": "86c90b43",
   "metadata": {},
   "source": [
    "## The Tools"
   ]
  },
  {
   "cell_type": "code",
   "execution_count": 14,
   "id": "7557e876",
   "metadata": {},
   "outputs": [],
   "source": [
    "@tool\n",
    "def get_median_price(url=url) -> str:\n",
    "    \"\"\"Gets the median house price from the supplied Rightmove URL\"\"\"\n",
    "\n",
    "    # Get the page\n",
    "\n",
    "    headers = { 'User-Agent': 'Mozilla/5.0 (X11; Ubuntu; Linux x86_64; rv:52.0) Gecko/20100101 Firefox/52.0' }\n",
    "    response = requests.get(url, headers=headers)\n",
    "\n",
    "    # Scrape the content\n",
    "\n",
    "    soup = BeautifulSoup(response.text, \"html.parser\")\n",
    "\n",
    "    props = soup.find_all(\"div\", class_=\"l-searchResult is-list\")\n",
    "\n",
    "    all_prices = []\n",
    "    for i in range(len(props)):\n",
    "        prop = props[i]\n",
    "        price = (\n",
    "            prop.find(\"div\", class_=\"propertyCard-priceValue\")\n",
    "            .get_text()\n",
    "            .replace(\",\",\"\")\n",
    "            .strip(\"£\")\n",
    "            .strip()\n",
    "        )\n",
    "        all_prices.append(int(price))\n",
    "        \n",
    "    res = round(statistics.median(all_prices),2)\n",
    "    \n",
    "    return (str(res))"
   ]
  },
  {
   "cell_type": "code",
   "execution_count": 15,
   "id": "087305b8",
   "metadata": {},
   "outputs": [],
   "source": [
    "@tool\n",
    "def get_mean_price(url=url) -> str:\n",
    "    \"\"\"Gets the mean house price from the supplied Rightmove URL\"\"\"\n",
    "\n",
    "    # Get the page\n",
    "\n",
    "    headers = { 'User-Agent': 'Mozilla/5.0 (X11; Ubuntu; Linux x86_64; rv:52.0) Gecko/20100101 Firefox/52.0' }\n",
    "    response = requests.get(url, headers=headers)\n",
    "\n",
    "    # Scrape the content\n",
    "\n",
    "    soup = BeautifulSoup(response.text, \"html.parser\")\n",
    "\n",
    "    apartments = soup.find_all(\"div\", class_=\"l-searchResult is-list\")\n",
    "\n",
    "    all_prices = []\n",
    "    for i in range(len(apartments)):\n",
    "        apartment_no = apartments[i]\n",
    "        price = (\n",
    "            apartment_no.find(\"div\", class_=\"propertyCard-priceValue\")\n",
    "            .get_text()\n",
    "            .replace(\",\",\"\")\n",
    "            .strip(\"£\")\n",
    "            .strip()\n",
    "        )\n",
    "        all_prices.append(int(price))\n",
    "        \n",
    "    res = round(statistics.mean(all_prices),2)\n",
    "    \n",
    "    return (str(res))"
   ]
  },
  {
   "cell_type": "code",
   "execution_count": 16,
   "id": "da456322",
   "metadata": {},
   "outputs": [
    {
     "data": {
      "text/plain": [
       "'290000'"
      ]
     },
     "execution_count": 16,
     "metadata": {},
     "output_type": "execute_result"
    }
   ],
   "source": [
    "get_median_price(url)"
   ]
  },
  {
   "cell_type": "code",
   "execution_count": 17,
   "id": "49aef984",
   "metadata": {},
   "outputs": [
    {
     "data": {
      "text/plain": [
       "'287772.22'"
      ]
     },
     "execution_count": 17,
     "metadata": {},
     "output_type": "execute_result"
    }
   ],
   "source": [
    "get_mean_price(url)"
   ]
  },
  {
   "cell_type": "markdown",
   "id": "3d887a4d",
   "metadata": {},
   "source": [
    "## Use Agent with Prompt"
   ]
  },
  {
   "cell_type": "code",
   "execution_count": 323,
   "id": "e388e466",
   "metadata": {},
   "outputs": [
    {
     "name": "stdout",
     "output_type": "stream",
     "text": [
      "\n",
      "\n",
      "\u001b[1m> Entering new AgentExecutor chain...\u001b[0m\n",
      "\u001b[32;1m\u001b[1;3mThought: I need to use the `get_mean_price` tool to calculate the mean of the house prices from the given Rightmove URL.\n",
      "Action:\n",
      "```\n",
      "{\n",
      "  \"action\": \"get_mean_price\",\n",
      "  \"action_input\": \"https://www.rightmove.co.uk/property-for-sale/find.html?locationIdentifier=REGION%5E116&maxBedrooms=3&minBedrooms=3&maxPrice=325000&propertyTypes=&includeSSTC=false&mustHave=&dontShow=&furnishTypes=&keywords=\"\n",
      "}\n",
      "```\n",
      "\u001b[0m\n",
      "Observation: \u001b[33;1m\u001b[1;3m287772.22\u001b[0m\n",
      "Thought:\u001b[32;1m\u001b[1;3mI have successfully retrieved the mean house price from the given Rightmove URL.\n",
      "Final Answer: The mean house price from the given Rightmove URL is 287772.22.\u001b[0m\n",
      "\n",
      "\u001b[1m> Finished chain.\u001b[0m\n",
      "The mean house price from the given Rightmove URL is 287772.22.\n"
     ]
    }
   ],
   "source": [
    "# Create the agent to use the tool\n",
    "\n",
    "# List the tools that AI can use\n",
    "tools = [get_median_price, get_mean_price]\n",
    "\n",
    "# Set up the Agent, give it the tools\n",
    "agent = initialize_agent(tools,\n",
    "                         llm,\n",
    "                         agent=\"chat-zero-shot-react-description\", \n",
    "                         verbose=True)\n",
    "                         max_iterations=3)\n",
    "\n",
    "# Create the prompt from a prompt template, with 1 input variable\n",
    "prompt = PromptTemplate(input_variables = ['calctype'],                            \n",
    "          template = '''\n",
    "            You have been given access to search data from Rightmove. \n",
    "            Please calculate the {calctype} based on the response using the {calctype} tool.         \n",
    "           '''                                                                      \n",
    "        )\n",
    "\n",
    "\n",
    "# Run the agent with the provided input variable\n",
    "result = agent.run(prompt.format_prompt(calctype=\"mean\"))\n",
    "print(result)"
   ]
  }
 ],
 "metadata": {
  "kernelspec": {
   "display_name": "Python 3 (ipykernel)",
   "language": "python",
   "name": "python3"
  },
  "language_info": {
   "codemirror_mode": {
    "name": "ipython",
    "version": 3
   },
   "file_extension": ".py",
   "mimetype": "text/x-python",
   "name": "python",
   "nbconvert_exporter": "python",
   "pygments_lexer": "ipython3",
   "version": "3.10.6"
  }
 },
 "nbformat": 4,
 "nbformat_minor": 5
}
